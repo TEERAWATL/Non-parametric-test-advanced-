{
 "cells": [
  {
   "cell_type": "markdown",
   "id": "62b9d16a",
   "metadata": {},
   "source": [
    "# Non-parametric test(advanced)"
   ]
  },
  {
   "cell_type": "code",
   "execution_count": 1,
   "id": "962a953c",
   "metadata": {},
   "outputs": [
    {
     "name": "stderr",
     "output_type": "stream",
     "text": [
      "C:\\Users\\Teerawat\\anaconda3\\lib\\site-packages\\numpy\\_distributor_init.py:30: UserWarning: loaded more than 1 DLL from .libs:\n",
      "C:\\Users\\Teerawat\\anaconda3\\lib\\site-packages\\numpy\\.libs\\libopenblas.EL2C6PLE4ZYW3ECEVIV3OXXGRN2NRFM2.gfortran-win_amd64.dll\n",
      "C:\\Users\\Teerawat\\anaconda3\\lib\\site-packages\\numpy\\.libs\\libopenblas.XWYDX2IKJW2NMTWSFYNGFUWKQU3LYTCZ.gfortran-win_amd64.dll\n",
      "  warnings.warn(\"loaded more than 1 DLL from .libs:\"\n"
     ]
    },
    {
     "data": {
      "text/html": [
       "<div>\n",
       "<style scoped>\n",
       "    .dataframe tbody tr th:only-of-type {\n",
       "        vertical-align: middle;\n",
       "    }\n",
       "\n",
       "    .dataframe tbody tr th {\n",
       "        vertical-align: top;\n",
       "    }\n",
       "\n",
       "    .dataframe thead th {\n",
       "        text-align: right;\n",
       "    }\n",
       "</style>\n",
       "<table border=\"1\" class=\"dataframe\">\n",
       "  <thead>\n",
       "    <tr style=\"text-align: right;\">\n",
       "      <th></th>\n",
       "      <th>a</th>\n",
       "      <th>b</th>\n",
       "    </tr>\n",
       "  </thead>\n",
       "  <tbody>\n",
       "    <tr>\n",
       "      <th>0</th>\n",
       "      <td>0.848166</td>\n",
       "      <td>0.676082</td>\n",
       "    </tr>\n",
       "    <tr>\n",
       "      <th>1</th>\n",
       "      <td>0.902807</td>\n",
       "      <td>0.873736</td>\n",
       "    </tr>\n",
       "    <tr>\n",
       "      <th>2</th>\n",
       "      <td>0.705490</td>\n",
       "      <td>0.761784</td>\n",
       "    </tr>\n",
       "    <tr>\n",
       "      <th>3</th>\n",
       "      <td>0.209794</td>\n",
       "      <td>0.687549</td>\n",
       "    </tr>\n",
       "    <tr>\n",
       "      <th>4</th>\n",
       "      <td>0.111564</td>\n",
       "      <td>0.898474</td>\n",
       "    </tr>\n",
       "    <tr>\n",
       "      <th>5</th>\n",
       "      <td>0.904098</td>\n",
       "      <td>0.100625</td>\n",
       "    </tr>\n",
       "    <tr>\n",
       "      <th>6</th>\n",
       "      <td>0.140254</td>\n",
       "      <td>0.750389</td>\n",
       "    </tr>\n",
       "    <tr>\n",
       "      <th>7</th>\n",
       "      <td>0.440624</td>\n",
       "      <td>0.128600</td>\n",
       "    </tr>\n",
       "    <tr>\n",
       "      <th>8</th>\n",
       "      <td>0.812959</td>\n",
       "      <td>0.369444</td>\n",
       "    </tr>\n",
       "    <tr>\n",
       "      <th>9</th>\n",
       "      <td>0.246469</td>\n",
       "      <td>0.383149</td>\n",
       "    </tr>\n",
       "  </tbody>\n",
       "</table>\n",
       "</div>"
      ],
      "text/plain": [
       "          a         b\n",
       "0  0.848166  0.676082\n",
       "1  0.902807  0.873736\n",
       "2  0.705490  0.761784\n",
       "3  0.209794  0.687549\n",
       "4  0.111564  0.898474\n",
       "5  0.904098  0.100625\n",
       "6  0.140254  0.750389\n",
       "7  0.440624  0.128600\n",
       "8  0.812959  0.369444\n",
       "9  0.246469  0.383149"
      ]
     },
     "execution_count": 1,
     "metadata": {},
     "output_type": "execute_result"
    }
   ],
   "source": [
    "import numpy as np\n",
    "import pandas as pd\n",
    "\n",
    "data1 = np.random.rand(10)\n",
    "data2 = np.random.rand(10)\n",
    "\n",
    "df = pd.DataFrame({'a':data1, 'b': data2})\n",
    "df"
   ]
  },
  {
   "cell_type": "markdown",
   "id": "06befe73",
   "metadata": {},
   "source": [
    "# 1. Mann-Whitney U test:\n",
    "Use this test when you have two independent samples, and you want to determine if there's a significant difference between their distributions. The test is appropriate when the data is not normally distributed or when you have ordinal data (rankings or ordered categories). The Mann-Whitney U test is a non-parametric alternative to the independent t-test.\n",
    "\n",
    "Objective: To compare two independent samples and determine if there is a significant difference between their distributions.\n",
    "\n",
    "(H0): The two samples come from the same population, and there is no difference between their distributions.\n",
    "\n",
    "(H1): The two samples come from different populations, and there is a difference between their distributions.\n",
    "\n",
    "Interpretation: If the p-value is less than your chosen significance level (e.g., 0.05), you can reject the null hypothesis and conclude that there is a significant difference between the distributions of the two samples."
   ]
  },
  {
   "cell_type": "code",
   "execution_count": 2,
   "id": "a99adb6e",
   "metadata": {},
   "outputs": [
    {
     "name": "stdout",
     "output_type": "stream",
     "text": [
      "stat=53.000, p=0.850\n",
      "Fail to reject H0, a nad b are diffence.\n"
     ]
    }
   ],
   "source": [
    "from scipy.stats import mannwhitneyu\n",
    "\n",
    "\n",
    "\n",
    "stat, p = mannwhitneyu(df['a'], df['b'])\n",
    "print('stat=%.3f, p=%.3f' % (stat, p))\n",
    "print('Fail to reject H0, a nad b are diffence.')"
   ]
  },
  {
   "cell_type": "markdown",
   "id": "6ca7f22f",
   "metadata": {},
   "source": [
    "# 2. Wilcoxon signed-rank test:\n",
    "\n",
    "Use this test when you have two related (paired) samples, and you want to determine if there's a significant difference between their distributions. The test is suitable for non-normally distributed data or ordinal data. The Wilcoxon signed-rank test is a non-parametric alternative to the paired t-test.\n",
    "\n",
    "Objective: To compare two related (paired) samples and determine if there is a significant difference between their distributions.\n",
    "\n",
    "(H0): The median difference between the paired samples is zero.\n",
    "\n",
    "(H1): The median difference between the paired samples is not zero.\n",
    "\n",
    "Interpretation: If the p-value is less than your chosen significance level (e.g., 0.05), you can reject the null hypothesis and conclude that there is a significant difference between the distributions of the two paired samples."
   ]
  },
  {
   "cell_type": "code",
   "execution_count": 3,
   "id": "6442c7f2",
   "metadata": {},
   "outputs": [
    {
     "name": "stdout",
     "output_type": "stream",
     "text": [
      "stat=26.000, p=0.922\n",
      "Fail to reject H0, a nad b are diffence median\n"
     ]
    }
   ],
   "source": [
    "from scipy.stats import wilcoxon\n",
    "\n",
    "stat, p = wilcoxon(df['a'], df['b'])\n",
    "print('stat=%.3f, p=%.3f' % (stat, p))\n",
    "print('Fail to reject H0, a nad b are diffence median')"
   ]
  },
  {
   "cell_type": "markdown",
   "id": "e2970c9b",
   "metadata": {},
   "source": [
    "# 3. Kruskal-Wallis test:\n",
    "\n",
    "Use this test when you have three or more independent samples, and you want to determine if there's a significant difference between their distributions. The test is appropriate for non-normally distributed data or ordinal data. The Kruskal-Wallis test is a non-parametric alternative to the one-way ANOVA.\n",
    "\n",
    "Objective: To compare three or more independent samples and determine if there is a significant difference between their distributions.\n",
    "\n",
    "(H0): All samples come from the same population, and there is no difference between their distributions.\n",
    "\n",
    "(H1): At least one sample comes from a different population, and there is a difference between their distributions.\n",
    "\n",
    "Interpretation: If the p-value is less than your chosen significance level (e.g., 0.05), you can reject the null hypothesis and conclude that there is a significant difference between the distributions of at least one of the samples."
   ]
  },
  {
   "cell_type": "code",
   "execution_count": 4,
   "id": "16676c62",
   "metadata": {},
   "outputs": [
    {
     "name": "stdout",
     "output_type": "stream",
     "text": [
      "stat=3.097, p=0.213\n",
      "Fail to reject H0, At least one sample are diffence.\n"
     ]
    },
    {
     "data": {
      "text/html": [
       "<div>\n",
       "<style scoped>\n",
       "    .dataframe tbody tr th:only-of-type {\n",
       "        vertical-align: middle;\n",
       "    }\n",
       "\n",
       "    .dataframe tbody tr th {\n",
       "        vertical-align: top;\n",
       "    }\n",
       "\n",
       "    .dataframe thead th {\n",
       "        text-align: right;\n",
       "    }\n",
       "</style>\n",
       "<table border=\"1\" class=\"dataframe\">\n",
       "  <thead>\n",
       "    <tr style=\"text-align: right;\">\n",
       "      <th></th>\n",
       "      <th>a</th>\n",
       "      <th>b</th>\n",
       "      <th>c</th>\n",
       "    </tr>\n",
       "  </thead>\n",
       "  <tbody>\n",
       "    <tr>\n",
       "      <th>0</th>\n",
       "      <td>0.848166</td>\n",
       "      <td>0.676082</td>\n",
       "      <td>0.124798</td>\n",
       "    </tr>\n",
       "    <tr>\n",
       "      <th>1</th>\n",
       "      <td>0.902807</td>\n",
       "      <td>0.873736</td>\n",
       "      <td>0.446107</td>\n",
       "    </tr>\n",
       "    <tr>\n",
       "      <th>2</th>\n",
       "      <td>0.705490</td>\n",
       "      <td>0.761784</td>\n",
       "      <td>0.171693</td>\n",
       "    </tr>\n",
       "    <tr>\n",
       "      <th>3</th>\n",
       "      <td>0.209794</td>\n",
       "      <td>0.687549</td>\n",
       "      <td>0.264731</td>\n",
       "    </tr>\n",
       "    <tr>\n",
       "      <th>4</th>\n",
       "      <td>0.111564</td>\n",
       "      <td>0.898474</td>\n",
       "      <td>0.010127</td>\n",
       "    </tr>\n",
       "    <tr>\n",
       "      <th>5</th>\n",
       "      <td>0.904098</td>\n",
       "      <td>0.100625</td>\n",
       "      <td>0.827749</td>\n",
       "    </tr>\n",
       "    <tr>\n",
       "      <th>6</th>\n",
       "      <td>0.140254</td>\n",
       "      <td>0.750389</td>\n",
       "      <td>0.462716</td>\n",
       "    </tr>\n",
       "    <tr>\n",
       "      <th>7</th>\n",
       "      <td>0.440624</td>\n",
       "      <td>0.128600</td>\n",
       "      <td>0.058524</td>\n",
       "    </tr>\n",
       "    <tr>\n",
       "      <th>8</th>\n",
       "      <td>0.812959</td>\n",
       "      <td>0.369444</td>\n",
       "      <td>0.497110</td>\n",
       "    </tr>\n",
       "    <tr>\n",
       "      <th>9</th>\n",
       "      <td>0.246469</td>\n",
       "      <td>0.383149</td>\n",
       "      <td>0.254358</td>\n",
       "    </tr>\n",
       "  </tbody>\n",
       "</table>\n",
       "</div>"
      ],
      "text/plain": [
       "          a         b         c\n",
       "0  0.848166  0.676082  0.124798\n",
       "1  0.902807  0.873736  0.446107\n",
       "2  0.705490  0.761784  0.171693\n",
       "3  0.209794  0.687549  0.264731\n",
       "4  0.111564  0.898474  0.010127\n",
       "5  0.904098  0.100625  0.827749\n",
       "6  0.140254  0.750389  0.462716\n",
       "7  0.440624  0.128600  0.058524\n",
       "8  0.812959  0.369444  0.497110\n",
       "9  0.246469  0.383149  0.254358"
      ]
     },
     "execution_count": 4,
     "metadata": {},
     "output_type": "execute_result"
    }
   ],
   "source": [
    "from scipy.stats import kruskal\n",
    "\n",
    "data3 = np.random.rand(10)\n",
    "\n",
    "df['c'] = data3\n",
    "\n",
    "stat, p = kruskal(df['a'], df['b'], df['c'])\n",
    "print('stat=%.3f, p=%.3f' % (stat, p))\n",
    "print('Fail to reject H0, At least one sample are diffence.')\n",
    "df"
   ]
  },
  {
   "cell_type": "markdown",
   "id": "3993a648",
   "metadata": {},
   "source": [
    "# 4. Spearman's rank correlation coefficient:\n",
    "\n",
    "Use this test when you want to assess the strength and direction of the association between two continuous or ordinal variables, especially when the relationship is not necessarily linear. The Spearman's rank correlation coefficient is a non-parametric alternative to the Pearson correlation coefficient.\n",
    "\n",
    "Objective: To assess the strength and direction of the association between two variables, when the relationship is not necessarily linear.\n",
    "\n",
    "(H0): There is no association between the two variables.\n",
    "\n",
    "(H1): There is an association between the two variables.\n",
    "\n",
    "Interpretation: The coefficient value ranges from -1 to 1, where -1 indicates a strong negative association, 0 indicates no association, and 1 indicates a strong positive association. If the p-value is less than your chosen significance level (e.g., 0.05), you can reject the null hypothesis and conclude that there is a significant association between the two variables."
   ]
  },
  {
   "cell_type": "code",
   "execution_count": 5,
   "id": "e62d9360",
   "metadata": {},
   "outputs": [
    {
     "name": "stdout",
     "output_type": "stream",
     "text": [
      "coef=-0.418, p=0.229\n",
      "Fail to reject H0, There is an association between the two variables.\n"
     ]
    }
   ],
   "source": [
    "from scipy.stats import spearmanr\n",
    "\n",
    "coef, p = spearmanr(df['a'],df['b'])\n",
    "print('coef=%.3f, p=%.3f' % (coef, p))\n",
    "print('Fail to reject H0, There is an association between the two variables.')"
   ]
  },
  {
   "cell_type": "markdown",
   "id": "6b5d6e38",
   "metadata": {},
   "source": [
    "# 5. The Chi-squared test:\n",
    "Use to compares the observed frequencies in the contingency table to the expected frequencies under the null hypothesis of independence. If the observed frequencies deviate significantly from the expected frequencies, the test will provide a small p-value, indicating that there is evidence to reject the null hypothesis.\n",
    "\n",
    "Objective: To assess the independence or association between two categorical variables in a contingency table.\n",
    "\n",
    "(H0): The two categorical variables are independent, and there is no association between them.\n",
    "\n",
    "(H1): The two categorical variables are dependent, and there is an association between them.\n",
    "\n",
    "Interpretation: If the p-value is less than your chosen significance level (e.g., 0.05), you can reject the null hypothesis and conclude that there is a significant association between the two categorical variables."
   ]
  },
  {
   "cell_type": "code",
   "execution_count": 6,
   "id": "ca72ca8d",
   "metadata": {},
   "outputs": [
    {
     "name": "stdout",
     "output_type": "stream",
     "text": [
      "Crosstab table:\n",
      "        Category1  Category2  Category3\n",
      "Group1         10         20         30\n",
      "Group2         20         30         20\n",
      "\n",
      "Chi2: 6.603, p-value: 0.037, degrees of freedom: 2\n",
      "\n",
      "Expected frequencies:\n",
      "[[13.84615385 23.07692308 23.07692308]\n",
      " [16.15384615 26.92307692 26.92307692]]\n",
      "\n",
      "Reject Ho, The two categorical variables are independent.\n"
     ]
    }
   ],
   "source": [
    "from scipy.stats import chi2_contingency\n",
    "\n",
    "# Example contingency table\n",
    "observed_array = np.array([[10, 20, 30],\n",
    "                           [20, 30, 20]])\n",
    "\n",
    "# Convert the array to a DataFrame\n",
    "observed_df = pd.DataFrame(observed_array, columns=['Category1', 'Category2', 'Category3'], index=['Group1', 'Group2'])\n",
    "\n",
    "# Chi-squared test\n",
    "chi2, p, dof, expected = chi2_contingency(observed_array)\n",
    "\n",
    "print(\"Crosstab table:\")\n",
    "print(observed_df)\n",
    "print(f\"\\nChi2: {chi2:.3f}, p-value: {p:.3f}, degrees of freedom: {dof}\")\n",
    "print(\"\\nExpected frequencies:\")\n",
    "print(expected)\n",
    "\n",
    "\n",
    "print('\\nReject Ho, The two categorical variables are independent.')"
   ]
  },
  {
   "cell_type": "code",
   "execution_count": null,
   "id": "e742df69",
   "metadata": {},
   "outputs": [],
   "source": []
  }
 ],
 "metadata": {
  "kernelspec": {
   "display_name": "Python 3 (ipykernel)",
   "language": "python",
   "name": "python3"
  },
  "language_info": {
   "codemirror_mode": {
    "name": "ipython",
    "version": 3
   },
   "file_extension": ".py",
   "mimetype": "text/x-python",
   "name": "python",
   "nbconvert_exporter": "python",
   "pygments_lexer": "ipython3",
   "version": "3.9.15"
  }
 },
 "nbformat": 4,
 "nbformat_minor": 5
}
